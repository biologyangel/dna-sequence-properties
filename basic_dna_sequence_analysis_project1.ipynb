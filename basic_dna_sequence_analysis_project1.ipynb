{
 "cells": [
  {
   "cell_type": "code",
   "execution_count": 1,
   "id": "8a1b57eb-877c-481e-8ad1-f8742a3395b0",
   "metadata": {},
   "outputs": [],
   "source": [
    "#import the specific seqio module from the biopython library"
   ]
  },
  {
   "cell_type": "code",
   "execution_count": 2,
   "id": "716c975a-0236-4ae7-94fb-fc13bfe84908",
   "metadata": {},
   "outputs": [],
   "source": [
    "# this module is designed for readind and writing various sequence file formats"
   ]
  },
  {
   "cell_type": "code",
   "execution_count": 3,
   "id": "f7d12dbd-1e29-48e7-9761-59fdbae12687",
   "metadata": {},
   "outputs": [],
   "source": [
    "from Bio import SeqIO"
   ]
  },
  {
   "cell_type": "code",
   "execution_count": 4,
   "id": "d7ada01e-e695-44d2-bf27-2a7fb2fcc32d",
   "metadata": {},
   "outputs": [],
   "source": [
    "#import a function to calulate GC content from biopython's sequtils"
   ]
  },
  {
   "cell_type": "code",
   "execution_count": 7,
   "id": "e3830cb8-475c-41b0-81f8-76afe51af895",
   "metadata": {},
   "outputs": [],
   "source": [
    "from Bio.SeqUtils import GC"
   ]
  },
  {
   "cell_type": "code",
   "execution_count": 8,
   "id": "d1f83833-e9d4-4a7e-937c-f317cc04dc4c",
   "metadata": {},
   "outputs": [],
   "source": [
    "#store the name of our FASTA file in a variable "
   ]
  },
  {
   "cell_type": "code",
   "execution_count": 10,
   "id": "f72838b6-7b4b-4f10-8b44-ed66dfa97746",
   "metadata": {},
   "outputs": [],
   "source": [
    "#the script will look for this file in the same directory where jupyter notebook was started"
   ]
  },
  {
   "cell_type": "code",
   "execution_count": 14,
   "id": "0afab48e-139e-4c0e-96f3-6e9fa709943c",
   "metadata": {},
   "outputs": [],
   "source": [
    "fasta_file_name = 'sequences.fasta'"
   ]
  },
  {
   "cell_type": "code",
   "execution_count": 15,
   "id": "3de273c9-a492-4e48-ab8d-e7726462bb2a",
   "metadata": {},
   "outputs": [],
   "source": [
    "#print the file name we're targeting"
   ]
  },
  {
   "cell_type": "code",
   "execution_count": 16,
   "id": "92236e8c-cfc4-4659-868e-8560c9fe37bd",
   "metadata": {},
   "outputs": [
    {
     "name": "stdout",
     "output_type": "stream",
     "text": [
      "target file set to:sequences.fasta\n"
     ]
    }
   ],
   "source": [
    "print(f'target file set to:{fasta_file_name}')"
   ]
  },
  {
   "cell_type": "code",
   "execution_count": 17,
   "id": "1d6efc76-9f71-4af9-a616-5749e61544f0",
   "metadata": {},
   "outputs": [],
   "source": [
    "#use a try... except block. 'try runs the code that might case an error. "
   ]
  },
  {
   "cell_type": "code",
   "execution_count": 19,
   "id": "9970be15-f13e-456e-b43a-d6cb4469355d",
   "metadata": {},
   "outputs": [],
   "source": [
    "#'except' catches specific errors (like file not ofund) and runs different code"
   ]
  },
  {
   "cell_type": "code",
   "execution_count": 38,
   "id": "059a8bf3-67f0-4936-9b8a-44e7c67eed0c",
   "metadata": {},
   "outputs": [
    {
     "name": "stdout",
     "output_type": "stream",
     "text": [
      "Processing sequences from file: sequences.fasta\n",
      "-------------------\n",
      "Analyzing Sequence; SampleSeq1\n",
      "Sequence ID: SampleSeq1\n",
      "Description: -This sequence is a long one, starting with ATG.\n",
      "Original Sequence: ATGCGTACGTACGTATGCATGCGTACGTACGTATGCGCGTACGTACGTATGCATGCGTACGTACGTATGCGCATGCGTACGTACGTATGC\n",
      "\n",
      "--- Sequence Analysis Results ---\n",
      "Length: 90 base pairs\n",
      "GC Content: 52.22\n",
      "Reverse Complement: GCATACGTACGTACGCATGCGCATACGTACGTACGCATGCATACGTACGTACGCGCATACGTACGTACGCATGCATACGTACGTACGCAT\n",
      "---\n",
      "Analyzing Sequence; SampleSeq2\n",
      "Sequence ID: SampleSeq2\n",
      "Description: -This sequence is a short one, starting with AGC.\n",
      "Original Sequence: AGCTAGCTAGCTAGCT\n",
      "\n",
      "--- Sequence Analysis Results ---\n",
      "Length: 16 base pairs\n",
      "GC Content: 50.00\n",
      "Reverse Complement: AGCTAGCTAGCTAGCT\n",
      "---\n",
      "\n",
      "Analysis Complete!\n"
     ]
    }
   ],
   "source": [
    "try:\n",
    "    #use SeqIO.read() to read a file that contains ONLY ONE sequence. if your file had multiple sequences and your wanted to process them all, you would use SeqIO.parse() and loop through it. \n",
    "    #arguments: file name, file format ('fasta')\n",
    "    fasta_records = SeqIO.parse(fasta_file_name, 'fasta')\n",
    "\n",
    "    print(f'Processing sequences from file: {fasta_file_name}')\n",
    "    print('-------------------')\n",
    "\n",
    "    #loop through each sequence record\n",
    "\n",
    "    #now look through each sequence record found by SeqIO.parse()\n",
    "    for sequence_record in fasta_records:\n",
    "        \n",
    "        #accessing sequence data and info for the current record\n",
    "        #inside the loop, 'sequence_record' changes for each sequence in the file\n",
    "        \n",
    "        sequence_id = sequence_record.id #the identifier (eg. sampleseq1)\n",
    "        sequence_description = sequence_record.description #the full description line\n",
    "        dna_sequence_object = sequence_record.seq #actual sequence data as biopython seq object)\n",
    "\n",
    "        print(f'Analyzing Sequence; {sequence_id}')\n",
    "    #use f-strings to embed variable values directly into print statements\n",
    "        print(f'Sequence ID: {sequence_id}')\n",
    "    #modify the description in memory\n",
    "        if sequence_id == 'SampleSeq1':\n",
    "            sequence_record.description = '-This sequence is a long one, starting with ATG.'\n",
    "        elif sequence_id == 'SampleSeq2':\n",
    "            sequence_record.description = '-This sequence is a short one, starting with AGC.'\n",
    "            \n",
    "        sequence_description = sequence_record.description\n",
    "        print(f'Description: {sequence_description}')\n",
    "   \n",
    "    # if you want to see the actual sequence, uncomment the line below: \n",
    "        print(f'Original Sequence: {dna_sequence_object}')\n",
    "\n",
    "\n",
    "    #performing calculations using biopython for the current record\n",
    "    \n",
    "    #1. get the length of the sequence\n",
    "    #biopython seq objects work directly with python's built-in len() function\n",
    "        sequence_length = len(dna_sequence_object)\n",
    "\n",
    "    #2. calculate GC content (percentage of G and C nucleotides)\n",
    "    # we use the gc_content function we imported earlier from bio.sequtils\n",
    "        gc_percentage = GC(dna_sequence_object)\n",
    "\n",
    "    #3. get the reverse complement sequence \n",
    "    # biopython seq objects have methods (function attached to them) \n",
    "    # use the .reverse_complement() method\n",
    "        reverse_complement_seq = dna_sequence_object.reverse_complement()\n",
    "\n",
    "    #display the results\n",
    "\n",
    "        print('\\n--- Sequence Analysis Results ---') #print a header for clarity\n",
    "\n",
    "\n",
    "        print(f'Length: {sequence_length} base pairs')\n",
    "\n",
    "    #use :.2F inside the f-string to format the GC percentage to 2 decimal places\n",
    "        print(f'GC Content: {gc_percentage:.2f}')\n",
    "        print(f'Reverse Complement: {reverse_complement_seq}')\n",
    "        print('---') #separator for each sequence \n",
    "\n",
    "    print('\\nAnalysis Complete!')\n",
    "    \n",
    "    \n",
    "    #error handling code\n",
    "except FileNotFoundError:\n",
    "    #this code runs only if the file specified by fasta_file_name wasn't found\n",
    "    print(f\"Error: The File '{fasta_file_name}' was not found in the current directory.\")\n",
    "except Exception as e:\n",
    "    #this is a general catch-all for any other errors during the process\n",
    "    print(f'An unexpected error occured: {e}')\n",
    "    \n"
   ]
  },
  {
   "cell_type": "code",
   "execution_count": null,
   "id": "06f2c7f9-cc91-417a-b88d-32ddc41e52e8",
   "metadata": {},
   "outputs": [],
   "source": []
  }
 ],
 "metadata": {
  "kernelspec": {
   "display_name": "Python 3 (ipykernel)",
   "language": "python",
   "name": "python3"
  },
  "language_info": {
   "codemirror_mode": {
    "name": "ipython",
    "version": 3
   },
   "file_extension": ".py",
   "mimetype": "text/x-python",
   "name": "python",
   "nbconvert_exporter": "python",
   "pygments_lexer": "ipython3",
   "version": "3.9.21"
  }
 },
 "nbformat": 4,
 "nbformat_minor": 5
}
